{
 "cells": [
  {
   "cell_type": "code",
   "execution_count": null,
   "metadata": {},
   "outputs": [],
   "source": [
    "import numpy as np\n",
    "#import matplotlib.pyplot as plt\n",
    "import plotly.express as px\n",
    "import plotly.graph_objects as go\n"
   ]
  },
  {
   "cell_type": "code",
   "execution_count": null,
   "metadata": {},
   "outputs": [],
   "source": [
    "def central_difference(X, h=1):\n",
    "    dx = np.zeros([len(X)-2] )\n",
    "    for i in range(1, len(X)-1):\n",
    "        dx[i-1] = (X[i+1] - X[i-1]) / (2*h)\n",
    "    return dx"
   ]
  },
  {
   "cell_type": "code",
   "execution_count": null,
   "metadata": {},
   "outputs": [],
   "source": [
    "def henon_map(x, y, a, b):\n",
    "    x_n1 = 1 - a * x**2 + y\n",
    "    y_n1 = b * x\n",
    "    return x_n1, y_n1\n",
    "\n",
    "def get_henon_mesurements(x=0, y=0, a=1.4, b=0.3, num_points=10000, return_single_matrix=False):\n",
    "    x_values = np.zeros(num_points)\n",
    "    y_values = np.zeros(num_points)\n",
    "\n",
    "    x_values[0] = x\n",
    "    y_values[0] = y\n",
    "\n",
    "    for i in range(1, num_points):\n",
    "        x_values[i], y_values[i] = henon_map(x_values[i-1], y_values[i-1], a, b)\n",
    "\n",
    "    if return_single_matrix:\n",
    "        return np.vstack((x_values, y_values)).T\n",
    "    else:\n",
    "        return x_values, y_values\n",
    "\n"
   ]
  },
  {
   "cell_type": "code",
   "execution_count": null,
   "metadata": {},
   "outputs": [],
   "source": [
    "# Generate time series data for the Hénon system\n",
    "num_points = 1000000\n",
    "a = 1.4\n",
    "b = 0.3\n",
    "\n",
    "x_values = np.zeros(num_points)\n",
    "y_values = np.zeros(num_points)\n",
    "\n",
    "for i in range(1, num_points):\n",
    "    x_values[i], y_values[i] = henon_map(x_values[i-1], y_values[i-1], a, b)\n"
   ]
  },
  {
   "cell_type": "code",
   "execution_count": null,
   "metadata": {},
   "outputs": [],
   "source": [
    "fig = px.scatter_3d(x=x_values, y=y_values, z=np.zeros(len(x_values)), width=800, height=600)\n",
    "fig.update_traces(marker=dict(size=1, opacity=0.8), mode='markers')\n",
    "fig.show()"
   ]
  },
  {
   "cell_type": "markdown",
   "metadata": {},
   "source": [
    "# Takens embedding:"
   ]
  },
  {
   "cell_type": "code",
   "execution_count": null,
   "metadata": {},
   "outputs": [],
   "source": [
    "tau = 1\n",
    "\n",
    "a = x_values[:-2*tau];\n",
    "b = x_values[2*tau:]\n",
    "c = np.zeros(len(a))\n",
    "\n",
    "fig = px.scatter_3d(x=a, y=b, z=c,\n",
    "                    title='Takens Embedding of Hénon System',\n",
    "                    labels={'x': 'X', 'y': 'Y', 'z': 'Z'},\n",
    "                    width=800, height=600)\n",
    "\n",
    "fig.update_traces(marker=dict(size=1, opacity=0.8), mode='markers')\n",
    "\n",
    "fig.show()\n"
   ]
  },
  {
   "cell_type": "markdown",
   "metadata": {},
   "source": [
    "## Hankel matrix"
   ]
  },
  {
   "cell_type": "code",
   "execution_count": null,
   "metadata": {},
   "outputs": [],
   "source": [
    "def get_hankel_matrix(values: np.ndarray, stackmax: int):\n",
    "    H = np.zeros([stackmax, len(x_values)-stackmax])\n",
    "    for i in range(stackmax):\n",
    "        H[i, :] = x_values[i:-(stackmax-i)]\n",
    "    return H"
   ]
  },
  {
   "cell_type": "markdown",
   "metadata": {},
   "source": [
    "## SVD"
   ]
  },
  {
   "cell_type": "code",
   "execution_count": null,
   "metadata": {},
   "outputs": [],
   "source": [
    "H = get_hankel_matrix(x_values, stackmax=100)\n",
    "U, S, Vt = np.linalg.svd(H, full_matrices=False)\n",
    "V = np.transpose(Vt)"
   ]
  },
  {
   "cell_type": "markdown",
   "metadata": {},
   "source": [
    "## Shadow attractor"
   ]
  },
  {
   "cell_type": "code",
   "execution_count": null,
   "metadata": {},
   "outputs": [],
   "source": [
    "\n",
    "\n",
    "fig = px.scatter(x=V[:, 0], y=V[:, 1],\n",
    "                    title='Hénon System shadow attractor',\n",
    "                    labels={'x': 'X', 'y': 'Y'},\n",
    "                    width=800, height=800)\n",
    "\n",
    "fig.update_traces(marker=dict(size=1, opacity=0.8), mode='markers')\n",
    "\n",
    "fig.show()"
   ]
  }
 ],
 "metadata": {
  "kernelspec": {
   "display_name": "Python 3",
   "language": "python",
   "name": "python3"
  },
  "language_info": {
   "codemirror_mode": {
    "name": "ipython",
    "version": 3
   },
   "file_extension": ".py",
   "mimetype": "text/x-python",
   "name": "python",
   "nbconvert_exporter": "python",
   "pygments_lexer": "ipython3",
   "version": "3.10.12"
  }
 },
 "nbformat": 4,
 "nbformat_minor": 2
}
