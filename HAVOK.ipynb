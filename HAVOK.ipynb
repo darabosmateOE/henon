{
 "cells": [
  {
   "cell_type": "code",
   "execution_count": 1,
   "metadata": {},
   "outputs": [],
   "source": [
    "import numpy as np\n",
    "import matplotlib.pyplot as plt\n"
   ]
  },
  {
   "cell_type": "code",
   "execution_count": 2,
   "metadata": {},
   "outputs": [],
   "source": [
    "def central_difference(X, h=1):\n",
    "    dx = np.zeros([len(X)-2] )\n",
    "    for i in range(1, len(X)-1):\n",
    "        dx[i-1] = (X[i+1] - X[i-1]) / (2*h)\n",
    "    return dx"
   ]
  },
  {
   "cell_type": "markdown",
   "metadata": {},
   "source": [
    "## Hankel matrix"
   ]
  },
  {
   "cell_type": "code",
   "execution_count": null,
   "metadata": {},
   "outputs": [],
   "source": [
    "# stackmax = 10\n",
    "\n",
    "# H = np.zeros([stackmax, len(x_values)-stackmax])\n",
    "# for i in range(stackmax):\n",
    "#     H[i, :] = x_values[i:-(stackmax-i)]\n",
    "\n",
    "# H.shape\n",
    "# H[:5, :5]"
   ]
  },
  {
   "cell_type": "markdown",
   "metadata": {},
   "source": [
    "## SVD"
   ]
  },
  {
   "cell_type": "code",
   "execution_count": null,
   "metadata": {},
   "outputs": [],
   "source": [
    "# U, S, Vt = np.linalg.svd(H)\n",
    "\n",
    "# V = Vt.T"
   ]
  }
 ],
 "metadata": {
  "kernelspec": {
   "display_name": "Python 3",
   "language": "python",
   "name": "python3"
  },
  "language_info": {
   "codemirror_mode": {
    "name": "ipython",
    "version": 3
   },
   "file_extension": ".py",
   "mimetype": "text/x-python",
   "name": "python",
   "nbconvert_exporter": "python",
   "pygments_lexer": "ipython3",
   "version": "3.10.12"
  }
 },
 "nbformat": 4,
 "nbformat_minor": 2
}
